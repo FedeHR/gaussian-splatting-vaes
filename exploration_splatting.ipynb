{
 "cells": [
  {
   "cell_type": "code",
   "outputs": [
    {
     "name": "stdout",
     "output_type": "stream",
     "text": [
      "3.10.11 (v3.10.11:7d4cc5aa85, Apr  4 2023, 19:05:19) [Clang 13.0.0 (clang-1300.0.29.30)]\n"
     ]
    }
   ],
   "source": [
    "import sys\n",
    "print(sys.version)"
   ],
   "metadata": {
    "collapsed": false,
    "ExecuteTime": {
     "end_time": "2024-12-27T20:54:45.715847Z",
     "start_time": "2024-12-27T20:54:45.692114Z"
    }
   },
   "id": "25d7edc62e67c062",
   "execution_count": 1
  },
  {
   "cell_type": "code",
   "outputs": [
    {
     "data": {
      "text/plain": "\u001B[33mgsplat: No CUDA toolkit found. gsplat will be disabled.\u001B[0m\n",
      "text/html": "<pre style=\"white-space:pre;overflow-x:auto;line-height:normal;font-family:Menlo,'DejaVu Sans Mono',consolas,'Courier New',monospace\"><span style=\"color: #808000; text-decoration-color: #808000\">gsplat: No CUDA toolkit found. gsplat will be disabled.</span>\n</pre>\n"
     },
     "metadata": {},
     "output_type": "display_data"
    },
    {
     "ename": "AttributeError",
     "evalue": "'NoneType' object has no attribute 'CameraModelType'",
     "output_type": "error",
     "traceback": [
      "\u001B[0;31m---------------------------------------------------------------------------\u001B[0m",
      "\u001B[0;31mAttributeError\u001B[0m                            Traceback (most recent call last)",
      "Cell \u001B[0;32mIn[4], line 195\u001B[0m\n\u001B[1;32m    185\u001B[0m     trainer\u001B[38;5;241m.\u001B[39mtrain(\n\u001B[1;32m    186\u001B[0m         iterations\u001B[38;5;241m=\u001B[39miterations,\n\u001B[1;32m    187\u001B[0m         lr\u001B[38;5;241m=\u001B[39mlr,\n\u001B[1;32m    188\u001B[0m         save_imgs\u001B[38;5;241m=\u001B[39msave_imgs,\n\u001B[1;32m    189\u001B[0m         model_type\u001B[38;5;241m=\u001B[39mmodel_type,\n\u001B[1;32m    190\u001B[0m     )\n\u001B[1;32m    193\u001B[0m \u001B[38;5;28;01mif\u001B[39;00m \u001B[38;5;18m__name__\u001B[39m \u001B[38;5;241m==\u001B[39m \u001B[38;5;124m\"\u001B[39m\u001B[38;5;124m__main__\u001B[39m\u001B[38;5;124m\"\u001B[39m:\n\u001B[1;32m    194\u001B[0m     \u001B[38;5;66;03m#tyro.cli(main)\u001B[39;00m\n\u001B[0;32m--> 195\u001B[0m     \u001B[43mmain\u001B[49m\u001B[43m(\u001B[49m\u001B[43m)\u001B[49m\n",
      "Cell \u001B[0;32mIn[4], line 185\u001B[0m, in \u001B[0;36mmain\u001B[0;34m(height, width, num_points, save_imgs, img_path, iterations, lr, model_type)\u001B[0m\n\u001B[1;32m    182\u001B[0m     gt_image[height \u001B[38;5;241m/\u001B[39m\u001B[38;5;241m/\u001B[39m \u001B[38;5;241m2\u001B[39m :, width \u001B[38;5;241m/\u001B[39m\u001B[38;5;241m/\u001B[39m \u001B[38;5;241m2\u001B[39m :, :] \u001B[38;5;241m=\u001B[39m torch\u001B[38;5;241m.\u001B[39mtensor([\u001B[38;5;241m0.0\u001B[39m, \u001B[38;5;241m0.0\u001B[39m, \u001B[38;5;241m1.0\u001B[39m])\n\u001B[1;32m    184\u001B[0m trainer \u001B[38;5;241m=\u001B[39m SimpleTrainer(gt_image\u001B[38;5;241m=\u001B[39mgt_image, num_points\u001B[38;5;241m=\u001B[39mnum_points)\n\u001B[0;32m--> 185\u001B[0m \u001B[43mtrainer\u001B[49m\u001B[38;5;241;43m.\u001B[39;49m\u001B[43mtrain\u001B[49m\u001B[43m(\u001B[49m\n\u001B[1;32m    186\u001B[0m \u001B[43m    \u001B[49m\u001B[43miterations\u001B[49m\u001B[38;5;241;43m=\u001B[39;49m\u001B[43miterations\u001B[49m\u001B[43m,\u001B[49m\n\u001B[1;32m    187\u001B[0m \u001B[43m    \u001B[49m\u001B[43mlr\u001B[49m\u001B[38;5;241;43m=\u001B[39;49m\u001B[43mlr\u001B[49m\u001B[43m,\u001B[49m\n\u001B[1;32m    188\u001B[0m \u001B[43m    \u001B[49m\u001B[43msave_imgs\u001B[49m\u001B[38;5;241;43m=\u001B[39;49m\u001B[43msave_imgs\u001B[49m\u001B[43m,\u001B[49m\n\u001B[1;32m    189\u001B[0m \u001B[43m    \u001B[49m\u001B[43mmodel_type\u001B[49m\u001B[38;5;241;43m=\u001B[39;49m\u001B[43mmodel_type\u001B[49m\u001B[43m,\u001B[49m\n\u001B[1;32m    190\u001B[0m \u001B[43m\u001B[49m\u001B[43m)\u001B[49m\n",
      "Cell \u001B[0;32mIn[4], line 112\u001B[0m, in \u001B[0;36mSimpleTrainer.train\u001B[0;34m(self, iterations, lr, save_imgs, model_type)\u001B[0m\n\u001B[1;32m    109\u001B[0m \u001B[38;5;28;01mfor\u001B[39;00m \u001B[38;5;28miter\u001B[39m \u001B[38;5;129;01min\u001B[39;00m \u001B[38;5;28mrange\u001B[39m(iterations):\n\u001B[1;32m    110\u001B[0m     start \u001B[38;5;241m=\u001B[39m time\u001B[38;5;241m.\u001B[39mtime()\n\u001B[0;32m--> 112\u001B[0m     renders \u001B[38;5;241m=\u001B[39m \u001B[43mrasterize_fnc\u001B[49m\u001B[43m(\u001B[49m\n\u001B[1;32m    113\u001B[0m \u001B[43m        \u001B[49m\u001B[38;5;28;43mself\u001B[39;49m\u001B[38;5;241;43m.\u001B[39;49m\u001B[43mmeans\u001B[49m\u001B[43m,\u001B[49m\n\u001B[1;32m    114\u001B[0m \u001B[43m        \u001B[49m\u001B[38;5;28;43mself\u001B[39;49m\u001B[38;5;241;43m.\u001B[39;49m\u001B[43mquats\u001B[49m\u001B[43m \u001B[49m\u001B[38;5;241;43m/\u001B[39;49m\u001B[43m \u001B[49m\u001B[38;5;28;43mself\u001B[39;49m\u001B[38;5;241;43m.\u001B[39;49m\u001B[43mquats\u001B[49m\u001B[38;5;241;43m.\u001B[39;49m\u001B[43mnorm\u001B[49m\u001B[43m(\u001B[49m\u001B[43mdim\u001B[49m\u001B[38;5;241;43m=\u001B[39;49m\u001B[38;5;241;43m-\u001B[39;49m\u001B[38;5;241;43m1\u001B[39;49m\u001B[43m,\u001B[49m\u001B[43m \u001B[49m\u001B[43mkeepdim\u001B[49m\u001B[38;5;241;43m=\u001B[39;49m\u001B[38;5;28;43;01mTrue\u001B[39;49;00m\u001B[43m)\u001B[49m\u001B[43m,\u001B[49m\n\u001B[1;32m    115\u001B[0m \u001B[43m        \u001B[49m\u001B[38;5;28;43mself\u001B[39;49m\u001B[38;5;241;43m.\u001B[39;49m\u001B[43mscales\u001B[49m\u001B[43m,\u001B[49m\n\u001B[1;32m    116\u001B[0m \u001B[43m        \u001B[49m\u001B[43mtorch\u001B[49m\u001B[38;5;241;43m.\u001B[39;49m\u001B[43msigmoid\u001B[49m\u001B[43m(\u001B[49m\u001B[38;5;28;43mself\u001B[39;49m\u001B[38;5;241;43m.\u001B[39;49m\u001B[43mopacities\u001B[49m\u001B[43m)\u001B[49m\u001B[43m,\u001B[49m\n\u001B[1;32m    117\u001B[0m \u001B[43m        \u001B[49m\u001B[43mtorch\u001B[49m\u001B[38;5;241;43m.\u001B[39;49m\u001B[43msigmoid\u001B[49m\u001B[43m(\u001B[49m\u001B[38;5;28;43mself\u001B[39;49m\u001B[38;5;241;43m.\u001B[39;49m\u001B[43mrgbs\u001B[49m\u001B[43m)\u001B[49m\u001B[43m,\u001B[49m\n\u001B[1;32m    118\u001B[0m \u001B[43m        \u001B[49m\u001B[38;5;28;43mself\u001B[39;49m\u001B[38;5;241;43m.\u001B[39;49m\u001B[43mviewmat\u001B[49m\u001B[43m[\u001B[49m\u001B[38;5;28;43;01mNone\u001B[39;49;00m\u001B[43m]\u001B[49m\u001B[43m,\u001B[49m\n\u001B[1;32m    119\u001B[0m \u001B[43m        \u001B[49m\u001B[43mK\u001B[49m\u001B[43m[\u001B[49m\u001B[38;5;28;43;01mNone\u001B[39;49;00m\u001B[43m]\u001B[49m\u001B[43m,\u001B[49m\n\u001B[1;32m    120\u001B[0m \u001B[43m        \u001B[49m\u001B[38;5;28;43mself\u001B[39;49m\u001B[38;5;241;43m.\u001B[39;49m\u001B[43mW\u001B[49m\u001B[43m,\u001B[49m\n\u001B[1;32m    121\u001B[0m \u001B[43m        \u001B[49m\u001B[38;5;28;43mself\u001B[39;49m\u001B[38;5;241;43m.\u001B[39;49m\u001B[43mH\u001B[49m\u001B[43m,\u001B[49m\n\u001B[1;32m    122\u001B[0m \u001B[43m        \u001B[49m\u001B[43mpacked\u001B[49m\u001B[38;5;241;43m=\u001B[39;49m\u001B[38;5;28;43;01mFalse\u001B[39;49;00m\u001B[43m,\u001B[49m\n\u001B[1;32m    123\u001B[0m \u001B[43m    \u001B[49m\u001B[43m)\u001B[49m[\u001B[38;5;241m0\u001B[39m]\n\u001B[1;32m    124\u001B[0m     out_img \u001B[38;5;241m=\u001B[39m renders[\u001B[38;5;241m0\u001B[39m]\n\u001B[1;32m    125\u001B[0m     torch\u001B[38;5;241m.\u001B[39mcuda\u001B[38;5;241m.\u001B[39msynchronize()\n",
      "File \u001B[0;32m~/PycharmProjects/gaussian-splatting-vaes/venv/lib/python3.10/site-packages/gsplat/rendering.py:297\u001B[0m, in \u001B[0;36mrasterization\u001B[0;34m(means, quats, scales, opacities, colors, viewmats, Ks, width, height, near_plane, far_plane, radius_clip, eps2d, sh_degree, packed, tile_size, backgrounds, render_mode, sparse_grad, absgrad, rasterize_mode, channel_chunk, distributed, camera_model, covars)\u001B[0m\n\u001B[1;32m    294\u001B[0m     C \u001B[38;5;241m=\u001B[39m \u001B[38;5;28mlen\u001B[39m(viewmats)\n\u001B[1;32m    296\u001B[0m \u001B[38;5;66;03m# Project Gaussians to 2D. Directly pass in {quats, scales} is faster than precomputing covars.\u001B[39;00m\n\u001B[0;32m--> 297\u001B[0m proj_results \u001B[38;5;241m=\u001B[39m \u001B[43mfully_fused_projection\u001B[49m\u001B[43m(\u001B[49m\n\u001B[1;32m    298\u001B[0m \u001B[43m    \u001B[49m\u001B[43mmeans\u001B[49m\u001B[43m,\u001B[49m\n\u001B[1;32m    299\u001B[0m \u001B[43m    \u001B[49m\u001B[43mcovars\u001B[49m\u001B[43m,\u001B[49m\n\u001B[1;32m    300\u001B[0m \u001B[43m    \u001B[49m\u001B[43mquats\u001B[49m\u001B[43m,\u001B[49m\n\u001B[1;32m    301\u001B[0m \u001B[43m    \u001B[49m\u001B[43mscales\u001B[49m\u001B[43m,\u001B[49m\n\u001B[1;32m    302\u001B[0m \u001B[43m    \u001B[49m\u001B[43mviewmats\u001B[49m\u001B[43m,\u001B[49m\n\u001B[1;32m    303\u001B[0m \u001B[43m    \u001B[49m\u001B[43mKs\u001B[49m\u001B[43m,\u001B[49m\n\u001B[1;32m    304\u001B[0m \u001B[43m    \u001B[49m\u001B[43mwidth\u001B[49m\u001B[43m,\u001B[49m\n\u001B[1;32m    305\u001B[0m \u001B[43m    \u001B[49m\u001B[43mheight\u001B[49m\u001B[43m,\u001B[49m\n\u001B[1;32m    306\u001B[0m \u001B[43m    \u001B[49m\u001B[43meps2d\u001B[49m\u001B[38;5;241;43m=\u001B[39;49m\u001B[43meps2d\u001B[49m\u001B[43m,\u001B[49m\n\u001B[1;32m    307\u001B[0m \u001B[43m    \u001B[49m\u001B[43mpacked\u001B[49m\u001B[38;5;241;43m=\u001B[39;49m\u001B[43mpacked\u001B[49m\u001B[43m,\u001B[49m\n\u001B[1;32m    308\u001B[0m \u001B[43m    \u001B[49m\u001B[43mnear_plane\u001B[49m\u001B[38;5;241;43m=\u001B[39;49m\u001B[43mnear_plane\u001B[49m\u001B[43m,\u001B[49m\n\u001B[1;32m    309\u001B[0m \u001B[43m    \u001B[49m\u001B[43mfar_plane\u001B[49m\u001B[38;5;241;43m=\u001B[39;49m\u001B[43mfar_plane\u001B[49m\u001B[43m,\u001B[49m\n\u001B[1;32m    310\u001B[0m \u001B[43m    \u001B[49m\u001B[43mradius_clip\u001B[49m\u001B[38;5;241;43m=\u001B[39;49m\u001B[43mradius_clip\u001B[49m\u001B[43m,\u001B[49m\n\u001B[1;32m    311\u001B[0m \u001B[43m    \u001B[49m\u001B[43msparse_grad\u001B[49m\u001B[38;5;241;43m=\u001B[39;49m\u001B[43msparse_grad\u001B[49m\u001B[43m,\u001B[49m\n\u001B[1;32m    312\u001B[0m \u001B[43m    \u001B[49m\u001B[43mcalc_compensations\u001B[49m\u001B[38;5;241;43m=\u001B[39;49m\u001B[43m(\u001B[49m\u001B[43mrasterize_mode\u001B[49m\u001B[43m \u001B[49m\u001B[38;5;241;43m==\u001B[39;49m\u001B[43m \u001B[49m\u001B[38;5;124;43m\"\u001B[39;49m\u001B[38;5;124;43mantialiased\u001B[39;49m\u001B[38;5;124;43m\"\u001B[39;49m\u001B[43m)\u001B[49m\u001B[43m,\u001B[49m\n\u001B[1;32m    313\u001B[0m \u001B[43m    \u001B[49m\u001B[43mcamera_model\u001B[49m\u001B[38;5;241;43m=\u001B[39;49m\u001B[43mcamera_model\u001B[49m\u001B[43m,\u001B[49m\n\u001B[1;32m    314\u001B[0m \u001B[43m\u001B[49m\u001B[43m)\u001B[49m\n\u001B[1;32m    316\u001B[0m \u001B[38;5;28;01mif\u001B[39;00m packed:\n\u001B[1;32m    317\u001B[0m     \u001B[38;5;66;03m# The results are packed into shape [nnz, ...]. All elements are valid.\u001B[39;00m\n\u001B[1;32m    318\u001B[0m     (\n\u001B[1;32m    319\u001B[0m         camera_ids,\n\u001B[1;32m    320\u001B[0m         gaussian_ids,\n\u001B[0;32m   (...)\u001B[0m\n\u001B[1;32m    325\u001B[0m         compensations,\n\u001B[1;32m    326\u001B[0m     ) \u001B[38;5;241m=\u001B[39m proj_results\n",
      "File \u001B[0;32m~/PycharmProjects/gaussian-splatting-vaes/venv/lib/python3.10/site-packages/gsplat/cuda/_wrapper.py:306\u001B[0m, in \u001B[0;36mfully_fused_projection\u001B[0;34m(means, covars, quats, scales, viewmats, Ks, width, height, eps2d, near_plane, far_plane, radius_clip, packed, sparse_grad, calc_compensations, camera_model)\u001B[0m\n\u001B[1;32m    288\u001B[0m     \u001B[38;5;28;01mreturn\u001B[39;00m _FullyFusedProjectionPacked\u001B[38;5;241m.\u001B[39mapply(\n\u001B[1;32m    289\u001B[0m         means,\n\u001B[1;32m    290\u001B[0m         covars,\n\u001B[0;32m   (...)\u001B[0m\n\u001B[1;32m    303\u001B[0m         camera_model,\n\u001B[1;32m    304\u001B[0m     )\n\u001B[1;32m    305\u001B[0m \u001B[38;5;28;01melse\u001B[39;00m:\n\u001B[0;32m--> 306\u001B[0m     \u001B[38;5;28;01mreturn\u001B[39;00m \u001B[43m_FullyFusedProjection\u001B[49m\u001B[38;5;241;43m.\u001B[39;49m\u001B[43mapply\u001B[49m\u001B[43m(\u001B[49m\n\u001B[1;32m    307\u001B[0m \u001B[43m        \u001B[49m\u001B[43mmeans\u001B[49m\u001B[43m,\u001B[49m\n\u001B[1;32m    308\u001B[0m \u001B[43m        \u001B[49m\u001B[43mcovars\u001B[49m\u001B[43m,\u001B[49m\n\u001B[1;32m    309\u001B[0m \u001B[43m        \u001B[49m\u001B[43mquats\u001B[49m\u001B[43m,\u001B[49m\n\u001B[1;32m    310\u001B[0m \u001B[43m        \u001B[49m\u001B[43mscales\u001B[49m\u001B[43m,\u001B[49m\n\u001B[1;32m    311\u001B[0m \u001B[43m        \u001B[49m\u001B[43mviewmats\u001B[49m\u001B[43m,\u001B[49m\n\u001B[1;32m    312\u001B[0m \u001B[43m        \u001B[49m\u001B[43mKs\u001B[49m\u001B[43m,\u001B[49m\n\u001B[1;32m    313\u001B[0m \u001B[43m        \u001B[49m\u001B[43mwidth\u001B[49m\u001B[43m,\u001B[49m\n\u001B[1;32m    314\u001B[0m \u001B[43m        \u001B[49m\u001B[43mheight\u001B[49m\u001B[43m,\u001B[49m\n\u001B[1;32m    315\u001B[0m \u001B[43m        \u001B[49m\u001B[43meps2d\u001B[49m\u001B[43m,\u001B[49m\n\u001B[1;32m    316\u001B[0m \u001B[43m        \u001B[49m\u001B[43mnear_plane\u001B[49m\u001B[43m,\u001B[49m\n\u001B[1;32m    317\u001B[0m \u001B[43m        \u001B[49m\u001B[43mfar_plane\u001B[49m\u001B[43m,\u001B[49m\n\u001B[1;32m    318\u001B[0m \u001B[43m        \u001B[49m\u001B[43mradius_clip\u001B[49m\u001B[43m,\u001B[49m\n\u001B[1;32m    319\u001B[0m \u001B[43m        \u001B[49m\u001B[43mcalc_compensations\u001B[49m\u001B[43m,\u001B[49m\n\u001B[1;32m    320\u001B[0m \u001B[43m        \u001B[49m\u001B[43mcamera_model\u001B[49m\u001B[43m,\u001B[49m\n\u001B[1;32m    321\u001B[0m \u001B[43m    \u001B[49m\u001B[43m)\u001B[49m\n",
      "File \u001B[0;32m~/PycharmProjects/gaussian-splatting-vaes/venv/lib/python3.10/site-packages/torch/autograd/function.py:575\u001B[0m, in \u001B[0;36mFunction.apply\u001B[0;34m(cls, *args, **kwargs)\u001B[0m\n\u001B[1;32m    572\u001B[0m \u001B[38;5;28;01mif\u001B[39;00m \u001B[38;5;129;01mnot\u001B[39;00m torch\u001B[38;5;241m.\u001B[39m_C\u001B[38;5;241m.\u001B[39m_are_functorch_transforms_active():\n\u001B[1;32m    573\u001B[0m     \u001B[38;5;66;03m# See NOTE: [functorch vjp and autograd interaction]\u001B[39;00m\n\u001B[1;32m    574\u001B[0m     args \u001B[38;5;241m=\u001B[39m _functorch\u001B[38;5;241m.\u001B[39mutils\u001B[38;5;241m.\u001B[39munwrap_dead_wrappers(args)\n\u001B[0;32m--> 575\u001B[0m     \u001B[38;5;28;01mreturn\u001B[39;00m \u001B[38;5;28;43msuper\u001B[39;49m\u001B[43m(\u001B[49m\u001B[43m)\u001B[49m\u001B[38;5;241;43m.\u001B[39;49m\u001B[43mapply\u001B[49m\u001B[43m(\u001B[49m\u001B[38;5;241;43m*\u001B[39;49m\u001B[43margs\u001B[49m\u001B[43m,\u001B[49m\u001B[43m \u001B[49m\u001B[38;5;241;43m*\u001B[39;49m\u001B[38;5;241;43m*\u001B[39;49m\u001B[43mkwargs\u001B[49m\u001B[43m)\u001B[49m  \u001B[38;5;66;03m# type: ignore[misc]\u001B[39;00m\n\u001B[1;32m    577\u001B[0m \u001B[38;5;28;01mif\u001B[39;00m \u001B[38;5;129;01mnot\u001B[39;00m is_setup_ctx_defined:\n\u001B[1;32m    578\u001B[0m     \u001B[38;5;28;01mraise\u001B[39;00m \u001B[38;5;167;01mRuntimeError\u001B[39;00m(\n\u001B[1;32m    579\u001B[0m         \u001B[38;5;124m\"\u001B[39m\u001B[38;5;124mIn order to use an autograd.Function with functorch transforms \u001B[39m\u001B[38;5;124m\"\u001B[39m\n\u001B[1;32m    580\u001B[0m         \u001B[38;5;124m\"\u001B[39m\u001B[38;5;124m(vmap, grad, jvp, jacrev, ...), it must override the setup_context \u001B[39m\u001B[38;5;124m\"\u001B[39m\n\u001B[1;32m    581\u001B[0m         \u001B[38;5;124m\"\u001B[39m\u001B[38;5;124mstaticmethod. For more details, please see \u001B[39m\u001B[38;5;124m\"\u001B[39m\n\u001B[1;32m    582\u001B[0m         \u001B[38;5;124m\"\u001B[39m\u001B[38;5;124mhttps://pytorch.org/docs/main/notes/extending.func.html\u001B[39m\u001B[38;5;124m\"\u001B[39m\n\u001B[1;32m    583\u001B[0m     )\n",
      "File \u001B[0;32m~/PycharmProjects/gaussian-splatting-vaes/venv/lib/python3.10/site-packages/gsplat/cuda/_wrapper.py:778\u001B[0m, in \u001B[0;36m_FullyFusedProjection.forward\u001B[0;34m(ctx, means, covars, quats, scales, viewmats, Ks, width, height, eps2d, near_plane, far_plane, radius_clip, calc_compensations, camera_model)\u001B[0m\n\u001B[1;32m    760\u001B[0m \u001B[38;5;129m@staticmethod\u001B[39m\n\u001B[1;32m    761\u001B[0m \u001B[38;5;28;01mdef\u001B[39;00m \u001B[38;5;21mforward\u001B[39m(\n\u001B[1;32m    762\u001B[0m     ctx,\n\u001B[0;32m   (...)\u001B[0m\n\u001B[1;32m    776\u001B[0m     camera_model: Literal[\u001B[38;5;124m\"\u001B[39m\u001B[38;5;124mpinhole\u001B[39m\u001B[38;5;124m\"\u001B[39m, \u001B[38;5;124m\"\u001B[39m\u001B[38;5;124mortho\u001B[39m\u001B[38;5;124m\"\u001B[39m, \u001B[38;5;124m\"\u001B[39m\u001B[38;5;124mfisheye\u001B[39m\u001B[38;5;124m\"\u001B[39m] \u001B[38;5;241m=\u001B[39m \u001B[38;5;124m\"\u001B[39m\u001B[38;5;124mpinhole\u001B[39m\u001B[38;5;124m\"\u001B[39m,\n\u001B[1;32m    777\u001B[0m ) \u001B[38;5;241m-\u001B[39m\u001B[38;5;241m>\u001B[39m Tuple[Tensor, Tensor, Tensor, Tensor, Tensor]:\n\u001B[0;32m--> 778\u001B[0m     camera_model_type \u001B[38;5;241m=\u001B[39m \u001B[43m_make_lazy_cuda_obj\u001B[49m\u001B[43m(\u001B[49m\n\u001B[1;32m    779\u001B[0m \u001B[43m        \u001B[49m\u001B[38;5;124;43mf\u001B[39;49m\u001B[38;5;124;43m\"\u001B[39;49m\u001B[38;5;124;43mCameraModelType.\u001B[39;49m\u001B[38;5;132;43;01m{\u001B[39;49;00m\u001B[43mcamera_model\u001B[49m\u001B[38;5;241;43m.\u001B[39;49m\u001B[43mupper\u001B[49m\u001B[43m(\u001B[49m\u001B[43m)\u001B[49m\u001B[38;5;132;43;01m}\u001B[39;49;00m\u001B[38;5;124;43m\"\u001B[39;49m\n\u001B[1;32m    780\u001B[0m \u001B[43m    \u001B[49m\u001B[43m)\u001B[49m\n\u001B[1;32m    782\u001B[0m     \u001B[38;5;66;03m# \"covars\" and {\"quats\", \"scales\"} are mutually exclusive\u001B[39;00m\n\u001B[1;32m    783\u001B[0m     radii, means2d, depths, conics, compensations \u001B[38;5;241m=\u001B[39m _make_lazy_cuda_func(\n\u001B[1;32m    784\u001B[0m         \u001B[38;5;124m\"\u001B[39m\u001B[38;5;124mfully_fused_projection_fwd\u001B[39m\u001B[38;5;124m\"\u001B[39m\n\u001B[1;32m    785\u001B[0m     )(\n\u001B[0;32m   (...)\u001B[0m\n\u001B[1;32m    799\u001B[0m         camera_model_type,\n\u001B[1;32m    800\u001B[0m     )\n",
      "File \u001B[0;32m~/PycharmProjects/gaussian-splatting-vaes/venv/lib/python3.10/site-packages/gsplat/cuda/_wrapper.py:25\u001B[0m, in \u001B[0;36m_make_lazy_cuda_obj\u001B[0;34m(name)\u001B[0m\n\u001B[1;32m     23\u001B[0m obj \u001B[38;5;241m=\u001B[39m _C\n\u001B[1;32m     24\u001B[0m \u001B[38;5;28;01mfor\u001B[39;00m name_split \u001B[38;5;129;01min\u001B[39;00m name\u001B[38;5;241m.\u001B[39msplit(\u001B[38;5;124m\"\u001B[39m\u001B[38;5;124m.\u001B[39m\u001B[38;5;124m\"\u001B[39m):\n\u001B[0;32m---> 25\u001B[0m     obj \u001B[38;5;241m=\u001B[39m \u001B[38;5;28;43mgetattr\u001B[39;49m\u001B[43m(\u001B[49m\u001B[43m_C\u001B[49m\u001B[43m,\u001B[49m\u001B[43m \u001B[49m\u001B[43mname_split\u001B[49m\u001B[43m)\u001B[49m\n\u001B[1;32m     26\u001B[0m \u001B[38;5;28;01mreturn\u001B[39;00m obj\n",
      "\u001B[0;31mAttributeError\u001B[0m: 'NoneType' object has no attribute 'CameraModelType'"
     ]
    }
   ],
   "source": [
    "import math\n",
    "import os\n",
    "import time\n",
    "from pathlib import Path\n",
    "from typing import Literal, Optional\n",
    "\n",
    "import numpy as np\n",
    "import torch\n",
    "import tyro\n",
    "from PIL import Image\n",
    "from torch import Tensor, optim\n",
    "\n",
    "from gsplat import rasterization, rasterization_2dgs\n",
    "\n",
    "\n",
    "class SimpleTrainer:\n",
    "    \"\"\"Trains random gaussians to fit an image.\"\"\"\n",
    "\n",
    "    def __init__(\n",
    "        self,\n",
    "        gt_image: Tensor,\n",
    "        num_points: int = 2000,\n",
    "    ):\n",
    "        # self.device = torch.device(\"cuda:0\")\n",
    "        if torch.backends.mps.is_available():\n",
    "            self.device = torch.device(\"mps\")  # Use Metal Performance Shaders\n",
    "        else:\n",
    "            self.device = torch.device(\"cpu\")  # Fallback to CPU\n",
    "        \n",
    "        self.gt_image = gt_image.to(device=self.device)\n",
    "        self.num_points = num_points\n",
    "\n",
    "        fov_x = math.pi / 2.0\n",
    "        self.H, self.W = gt_image.shape[0], gt_image.shape[1]\n",
    "        self.focal = 0.5 * float(self.W) / math.tan(0.5 * fov_x)\n",
    "        self.img_size = torch.tensor([self.W, self.H, 1], device=self.device)\n",
    "\n",
    "        self._init_gaussians()\n",
    "\n",
    "    def _init_gaussians(self):\n",
    "        \"\"\"Random gaussians\"\"\"\n",
    "        bd = 2\n",
    "\n",
    "        self.means = bd * (torch.rand(self.num_points, 3, device=self.device) - 0.5)\n",
    "        self.scales = torch.rand(self.num_points, 3, device=self.device)\n",
    "        d = 3\n",
    "        self.rgbs = torch.rand(self.num_points, d, device=self.device)\n",
    "\n",
    "        u = torch.rand(self.num_points, 1, device=self.device)\n",
    "        v = torch.rand(self.num_points, 1, device=self.device)\n",
    "        w = torch.rand(self.num_points, 1, device=self.device)\n",
    "\n",
    "        self.quats = torch.cat(\n",
    "            [\n",
    "                torch.sqrt(1.0 - u) * torch.sin(2.0 * math.pi * v),\n",
    "                torch.sqrt(1.0 - u) * torch.cos(2.0 * math.pi * v),\n",
    "                torch.sqrt(u) * torch.sin(2.0 * math.pi * w),\n",
    "                torch.sqrt(u) * torch.cos(2.0 * math.pi * w),\n",
    "            ],\n",
    "            -1,\n",
    "        )\n",
    "        self.opacities = torch.ones((self.num_points), device=self.device)\n",
    "\n",
    "        self.viewmat = torch.tensor(\n",
    "            [\n",
    "                [1.0, 0.0, 0.0, 0.0],\n",
    "                [0.0, 1.0, 0.0, 0.0],\n",
    "                [0.0, 0.0, 1.0, 8.0],\n",
    "                [0.0, 0.0, 0.0, 1.0],\n",
    "            ],\n",
    "            device=self.device,\n",
    "        )\n",
    "        self.background = torch.zeros(d, device=self.device)\n",
    "\n",
    "        self.means.requires_grad = True\n",
    "        self.scales.requires_grad = True\n",
    "        self.quats.requires_grad = True\n",
    "        self.rgbs.requires_grad = True\n",
    "        self.opacities.requires_grad = True\n",
    "        self.viewmat.requires_grad = False\n",
    "\n",
    "    def train(\n",
    "        self,\n",
    "        iterations: int = 1000,\n",
    "        lr: float = 0.01,\n",
    "        save_imgs: bool = False,\n",
    "        model_type: Literal[\"3dgs\", \"2dgs\"] = \"3dgs\",\n",
    "    ):\n",
    "        optimizer = optim.Adam(\n",
    "            [self.rgbs, self.means, self.scales, self.opacities, self.quats], lr\n",
    "        )\n",
    "        mse_loss = torch.nn.MSELoss()\n",
    "        frames = []\n",
    "        times = [0] * 2  # rasterization, backward\n",
    "        K = torch.tensor(\n",
    "            [\n",
    "                [self.focal, 0, self.W / 2],\n",
    "                [0, self.focal, self.H / 2],\n",
    "                [0, 0, 1],\n",
    "            ],\n",
    "            device=self.device,\n",
    "        )\n",
    "\n",
    "        if model_type == \"3dgs\":\n",
    "            rasterize_fnc = rasterization\n",
    "        elif model_type == \"2dgs\":\n",
    "            rasterize_fnc = rasterization_2dgs\n",
    "\n",
    "        for iter in range(iterations):\n",
    "            start = time.time()\n",
    "\n",
    "            renders = rasterize_fnc(\n",
    "                self.means,\n",
    "                self.quats / self.quats.norm(dim=-1, keepdim=True),\n",
    "                self.scales,\n",
    "                torch.sigmoid(self.opacities),\n",
    "                torch.sigmoid(self.rgbs),\n",
    "                self.viewmat[None],\n",
    "                K[None],\n",
    "                self.W,\n",
    "                self.H,\n",
    "                packed=False,\n",
    "            )[0]\n",
    "            out_img = renders[0]\n",
    "            torch.cuda.synchronize()\n",
    "            times[0] += time.time() - start\n",
    "            loss = mse_loss(out_img, self.gt_image)\n",
    "            optimizer.zero_grad()\n",
    "            start = time.time()\n",
    "            loss.backward()\n",
    "            torch.cuda.synchronize()\n",
    "            times[1] += time.time() - start\n",
    "            optimizer.step()\n",
    "            print(f\"Iteration {iter + 1}/{iterations}, Loss: {loss.item()}\")\n",
    "\n",
    "            if save_imgs and iter % 5 == 0:\n",
    "                frames.append((out_img.detach().cpu().numpy() * 255).astype(np.uint8))\n",
    "        if save_imgs:\n",
    "            # save them as a gif with PIL\n",
    "            frames = [Image.fromarray(frame) for frame in frames]\n",
    "            out_dir = os.path.join(os.getcwd(), \"results\")\n",
    "            os.makedirs(out_dir, exist_ok=True)\n",
    "            frames[0].save(\n",
    "                f\"{out_dir}/training.gif\",\n",
    "                save_all=True,\n",
    "                append_images=frames[1:],\n",
    "                optimize=False,\n",
    "                duration=5,\n",
    "                loop=0,\n",
    "            )\n",
    "        print(f\"Total(s):\\nRasterization: {times[0]:.3f}, Backward: {times[1]:.3f}\")\n",
    "        print(\n",
    "            f\"Per step(s):\\nRasterization: {times[0]/iterations:.5f}, Backward: {times[1]/iterations:.5f}\"\n",
    "        )\n",
    "\n",
    "\n",
    "def image_path_to_tensor(image_path: Path):\n",
    "    import torchvision.transforms as transforms\n",
    "\n",
    "    img = Image.open(image_path)\n",
    "    transform = transforms.ToTensor()\n",
    "    img_tensor = transform(img).permute(1, 2, 0)[..., :3]\n",
    "    return img_tensor\n",
    "\n",
    "\n",
    "def main(\n",
    "    height: int = 256,\n",
    "    width: int = 256,\n",
    "    num_points: int = 100000,\n",
    "    save_imgs: bool = True,\n",
    "    img_path: Optional[Path] = None,\n",
    "    iterations: int = 1000,\n",
    "    lr: float = 0.01,\n",
    "    model_type: Literal[\"3dgs\", \"2dgs\"] = \"3dgs\",\n",
    ") -> None:\n",
    "    if img_path:\n",
    "        gt_image = image_path_to_tensor(img_path)\n",
    "    else:\n",
    "        gt_image = torch.ones((height, width, 3)) * 1.0\n",
    "        # make top left and bottom right red, blue\n",
    "        gt_image[: height // 2, : width // 2, :] = torch.tensor([1.0, 0.0, 0.0])\n",
    "        gt_image[height // 2 :, width // 2 :, :] = torch.tensor([0.0, 0.0, 1.0])\n",
    "\n",
    "    trainer = SimpleTrainer(gt_image=gt_image, num_points=num_points)\n",
    "    trainer.train(\n",
    "        iterations=iterations,\n",
    "        lr=lr,\n",
    "        save_imgs=save_imgs,\n",
    "        model_type=model_type,\n",
    "    )\n",
    "\n",
    "\n",
    "if __name__ == \"__main__\":\n",
    "    #tyro.cli(main)\n",
    "    main()"
   ],
   "metadata": {
    "collapsed": true,
    "ExecuteTime": {
     "end_time": "2024-12-27T20:58:23.246430Z",
     "start_time": "2024-12-27T20:58:21.336938Z"
    }
   },
   "id": "initial_id",
   "execution_count": 4
  },
  {
   "cell_type": "code",
   "outputs": [],
   "source": [
    "import matplotlib as plt"
   ],
   "metadata": {
    "collapsed": false,
    "ExecuteTime": {
     "end_time": "2024-12-27T20:04:55.025205Z",
     "start_time": "2024-12-27T20:04:54.655710Z"
    }
   },
   "id": "a90836c7ce14554b",
   "execution_count": 2
  },
  {
   "cell_type": "code",
   "outputs": [
    {
     "name": "stdout",
     "output_type": "stream",
     "text": [
      "/Users/fede/PycharmProjects/gaussian-splatting-vaes/venv/bin/python\r\n"
     ]
    }
   ],
   "source": [
    "!which python"
   ],
   "metadata": {
    "collapsed": false,
    "ExecuteTime": {
     "end_time": "2024-12-27T20:15:22.149067Z",
     "start_time": "2024-12-27T20:15:21.998475Z"
    }
   },
   "id": "fefa445c7a8e3216",
   "execution_count": 13
  },
  {
   "cell_type": "code",
   "outputs": [
    {
     "name": "stdout",
     "output_type": "stream",
     "text": [
      "/Users/fede/PycharmProjects/gaussian-splatting-vaes/venv/bin/python\r\n"
     ]
    }
   ],
   "source": [
    "!which python"
   ],
   "metadata": {
    "collapsed": false,
    "ExecuteTime": {
     "end_time": "2024-12-27T20:08:04.381270Z",
     "start_time": "2024-12-27T20:08:04.258510Z"
    }
   },
   "id": "207749998f3ef43a",
   "execution_count": 7
  },
  {
   "cell_type": "code",
   "outputs": [
    {
     "name": "stdout",
     "output_type": "stream",
     "text": [
      "Package                   Version\r\n",
      "------------------------- --------------\r\n",
      "anyio                     4.7.0\r\n",
      "appnope                   0.1.4\r\n",
      "argon2-cffi               23.1.0\r\n",
      "argon2-cffi-bindings      21.2.0\r\n",
      "arrow                     1.3.0\r\n",
      "asttokens                 3.0.0\r\n",
      "async-lru                 2.0.4\r\n",
      "attrs                     24.3.0\r\n",
      "babel                     2.16.0\r\n",
      "beautifulsoup4            4.12.3\r\n",
      "bleach                    6.2.0\r\n",
      "certifi                   2024.12.14\r\n",
      "cffi                      1.17.1\r\n",
      "charset-normalizer        3.4.1\r\n",
      "colorama                  0.4.6\r\n",
      "comm                      0.2.2\r\n",
      "contourpy                 1.3.1\r\n",
      "cycler                    0.12.1\r\n",
      "debugpy                   1.8.11\r\n",
      "decorator                 5.1.1\r\n",
      "defusedxml                0.7.1\r\n",
      "docstring_parser          0.16\r\n",
      "exceptiongroup            1.2.2\r\n",
      "executing                 2.1.0\r\n",
      "fastjsonschema            2.21.1\r\n",
      "filelock                  3.16.1\r\n",
      "fonttools                 4.55.3\r\n",
      "fqdn                      1.5.1\r\n",
      "fsspec                    2024.12.0\r\n",
      "gsplat                    1.4.0\r\n",
      "h11                       0.14.0\r\n",
      "httpcore                  1.0.7\r\n",
      "httpx                     0.28.1\r\n",
      "idna                      3.10\r\n",
      "ipykernel                 6.29.5\r\n",
      "ipython                   8.31.0\r\n",
      "ipywidgets                8.1.5\r\n",
      "isoduration               20.11.0\r\n",
      "jaxtyping                 0.2.36\r\n",
      "jedi                      0.19.2\r\n",
      "Jinja2                    3.1.5\r\n",
      "json5                     0.10.0\r\n",
      "jsonpointer               3.0.0\r\n",
      "jsonschema                4.23.0\r\n",
      "jsonschema-specifications 2024.10.1\r\n",
      "jupyter                   1.1.1\r\n",
      "jupyter_client            8.6.3\r\n",
      "jupyter-console           6.6.3\r\n",
      "jupyter_core              5.7.2\r\n",
      "jupyter-events            0.11.0\r\n",
      "jupyter-lsp               2.2.5\r\n",
      "jupyter_server            2.15.0\r\n",
      "jupyter_server_terminals  0.5.3\r\n",
      "jupyterlab                4.3.4\r\n",
      "jupyterlab_pygments       0.3.0\r\n",
      "jupyterlab_server         2.27.3\r\n",
      "jupyterlab_widgets        3.0.13\r\n",
      "kiwisolver                1.4.8\r\n",
      "markdown-it-py            3.0.0\r\n",
      "MarkupSafe                3.0.2\r\n",
      "matplotlib                3.10.0\r\n",
      "matplotlib-inline         0.1.7\r\n",
      "mdurl                     0.1.2\r\n",
      "mistune                   3.0.2\r\n",
      "mpmath                    1.3.0\r\n",
      "nbclient                  0.10.2\r\n",
      "nbconvert                 7.16.4\r\n",
      "nbformat                  5.10.4\r\n",
      "nest-asyncio              1.6.0\r\n",
      "networkx                  3.4.2\r\n",
      "ninja                     1.11.1.3\r\n",
      "notebook                  7.3.2\r\n",
      "notebook_shim             0.2.4\r\n",
      "numpy                     2.2.1\r\n",
      "overrides                 7.7.0\r\n",
      "packaging                 24.2\r\n",
      "pandocfilters             1.5.1\r\n",
      "parso                     0.8.4\r\n",
      "pexpect                   4.9.0\r\n",
      "pillow                    11.0.0\r\n",
      "pip                       24.3.1\r\n",
      "platformdirs              4.3.6\r\n",
      "prometheus_client         0.21.1\r\n",
      "prompt_toolkit            3.0.48\r\n",
      "psutil                    6.1.1\r\n",
      "ptyprocess                0.7.0\r\n",
      "pure_eval                 0.2.3\r\n",
      "pycparser                 2.22\r\n",
      "Pygments                  2.18.0\r\n",
      "pyparsing                 3.2.0\r\n",
      "python-dateutil           2.9.0.post0\r\n",
      "python-json-logger        3.2.1\r\n",
      "PyYAML                    6.0.2\r\n",
      "pyzmq                     26.2.0\r\n",
      "referencing               0.35.1\r\n",
      "requests                  2.32.3\r\n",
      "rfc3339-validator         0.1.4\r\n",
      "rfc3986-validator         0.1.1\r\n",
      "rich                      13.9.4\r\n",
      "rpds-py                   0.22.3\r\n",
      "Send2Trash                1.8.3\r\n",
      "setuptools                68.2.0\r\n",
      "shtab                     1.7.1\r\n",
      "six                       1.17.0\r\n",
      "sniffio                   1.3.1\r\n",
      "soupsieve                 2.6\r\n",
      "stack-data                0.6.3\r\n",
      "sympy                     1.13.1\r\n",
      "terminado                 0.18.1\r\n",
      "tinycss2                  1.4.0\r\n",
      "tomli                     2.2.1\r\n",
      "torch                     2.5.1\r\n",
      "tornado                   6.4.2\r\n",
      "traitlets                 5.14.3\r\n",
      "typeguard                 4.4.1\r\n",
      "types-python-dateutil     2.9.0.20241206\r\n",
      "typing_extensions         4.12.2\r\n",
      "tyro                      0.8.5\r\n",
      "uri-template              1.3.0\r\n",
      "urllib3                   2.3.0\r\n",
      "wcwidth                   0.2.13\r\n",
      "webcolors                 24.11.1\r\n",
      "webencodings              0.5.1\r\n",
      "websocket-client          1.8.0\r\n",
      "wheel                     0.41.2\r\n",
      "widgetsnbextension        4.0.13\r\n"
     ]
    }
   ],
   "source": [
    "!pip list"
   ],
   "metadata": {
    "collapsed": false,
    "ExecuteTime": {
     "end_time": "2024-12-27T20:08:30.103601Z",
     "start_time": "2024-12-27T20:08:29.827580Z"
    }
   },
   "id": "f1367b1e902ed43c",
   "execution_count": 8
  },
  {
   "cell_type": "code",
   "outputs": [
    {
     "name": "stdout",
     "output_type": "stream",
     "text": [
      "Python 3.10.11 (v3.10.11:7d4cc5aa85, Apr  4 2023, 19:05:19) [Clang 13.0.0 (clang-1300.0.29.30)] on darwin\r\n",
      "Type \"help\", \"copyright\", \"credits\" or \"license\" for more information.\r\n",
      ">>> \r\n",
      "KeyboardInterrupt\r\n",
      ">>> \r\n",
      ">>> "
     ]
    }
   ],
   "source": [],
   "metadata": {
    "collapsed": false,
    "ExecuteTime": {
     "end_time": "2024-12-27T20:08:46.737193Z",
     "start_time": "2024-12-27T20:08:39.054906Z"
    }
   },
   "id": "b704cc876d8b11ba",
   "execution_count": 9
  },
  {
   "cell_type": "code",
   "outputs": [],
   "source": [],
   "metadata": {
    "collapsed": false
   },
   "id": "1cd22a3f8655a608"
  }
 ],
 "metadata": {
  "kernelspec": {
   "name": "gaussian-splatting-vqes",
   "language": "python",
   "display_name": "gaussian-splatting-vqes"
  },
  "language_info": {
   "codemirror_mode": {
    "name": "ipython",
    "version": 2
   },
   "file_extension": ".py",
   "mimetype": "text/x-python",
   "name": "python",
   "nbconvert_exporter": "python",
   "pygments_lexer": "ipython2",
   "version": "2.7.6"
  }
 },
 "nbformat": 4,
 "nbformat_minor": 5
}
